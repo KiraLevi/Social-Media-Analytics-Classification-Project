{
 "cells": [
  {
   "cell_type": "markdown",
   "metadata": {
    "colab_type": "text",
    "id": "5ujqKdhokdJC"
   },
   "source": [
    "\n",
    " # Social Media Final Project\n",
    "\n",
    "Geng Luo\n",
    "MSMA\n",
    "31624268"
   ]
  },
  {
   "cell_type": "markdown",
   "metadata": {
    "colab_type": "text",
    "id": "dSGm9PuAk69l"
   },
   "source": [
    "\n",
    "# 1. Import packages"
   ]
  },
  {
   "cell_type": "code",
   "execution_count": 24,
   "metadata": {
    "colab": {
     "base_uri": "https://localhost:8080/",
     "height": 87
    },
    "colab_type": "code",
    "id": "NodL3F6jiLFN",
    "outputId": "ef43f3fd-eaba-40cc-e040-e5afd48d0d95"
   },
   "outputs": [
    {
     "name": "stderr",
     "output_type": "stream",
     "text": [
      "[nltk_data] Downloading package punkt to /Users/kira/nltk_data...\n",
      "[nltk_data]   Package punkt is already up-to-date!\n",
      "[nltk_data] Downloading package stopwords to /Users/kira/nltk_data...\n",
      "[nltk_data]   Package stopwords is already up-to-date!\n"
     ]
    }
   ],
   "source": [
    "import os\n",
    "import numpy as np\n",
    "import pandas as pd\n",
    "import re\n",
    "import nltk\n",
    "nltk.download('punkt')\n",
    "nltk.download('stopwords')\n",
    "from nltk.tokenize import sent_tokenize, word_tokenize \n",
    "from nltk.corpus import stopwords\n",
    "import matplotlib.pyplot as plt\n",
    "import seaborn as sns \n",
    "import string \n",
    "import warnings\n",
    "warnings.filterwarnings(\"ignore\")\n",
    "\n",
    "%matplotlib inline "
   ]
  },
  {
   "cell_type": "markdown",
   "metadata": {},
   "source": [
    "# 2. Load data"
   ]
  },
  {
   "cell_type": "code",
   "execution_count": 25,
   "metadata": {
    "colab": {},
    "colab_type": "code",
    "id": "joAYbeRZixG0"
   },
   "outputs": [],
   "source": [
    "df_complaint = pd.read_csv(\"/Users/kira/Desktop/CIS434 Social Media/Final Project/data/complaint1700.csv\")\n",
    "df_noncomplaint = pd.read_csv(\"/Users/kira/Desktop/CIS434 Social Media/Final Project/data/noncomplaint1700.csv\")"
   ]
  },
  {
   "cell_type": "code",
   "execution_count": 28,
   "metadata": {
    "colab": {},
    "colab_type": "code",
    "id": "aN2LyLPNnUxx"
   },
   "outputs": [],
   "source": [
    "df_complaint['sentiment'] = 1\n",
    "df_noncomplaint['sentiment'] = 0"
   ]
  },
  {
   "cell_type": "code",
   "execution_count": 29,
   "metadata": {
    "colab": {},
    "colab_type": "code",
    "id": "r3FdATf5niRZ"
   },
   "outputs": [],
   "source": [
    "df = pd.concat([df_complaint,df_noncomplaint],axis=0)"
   ]
  },
  {
   "cell_type": "code",
   "execution_count": 31,
   "metadata": {
    "colab": {},
    "colab_type": "code",
    "id": "I0v_x4z-p4ik"
   },
   "outputs": [],
   "source": [
    "punctuation = [char for char in string.punctuation if char!='?']\n",
    "def remove_punc_stopwords(text):\n",
    "    word_list = nltk.word_tokenize(text)\n",
    "    not_in_punc = [word for word in word_list if word.lower() not in punctuation]\n",
    "    return [word.lower() for word in not_in_punc if word.lower() not in stopwords.words(['english','french','spanish','portuguese'])]"
   ]
  },
  {
   "cell_type": "markdown",
   "metadata": {
    "colab_type": "text",
    "id": "2oLJJuY9tCuz"
   },
   "source": [
    "# 3. Create Term-Document Matrix(TDM)"
   ]
  },
  {
   "cell_type": "code",
   "execution_count": 32,
   "metadata": {
    "colab": {},
    "colab_type": "code",
    "id": "Pr4KWBmmqXIC"
   },
   "outputs": [],
   "source": [
    "from sklearn.feature_extraction.text import CountVectorizer \n",
    "tdm_transformer = CountVectorizer(analyzer=remove_punc_stopwords).fit(df['tweet'])  \n",
    "df_tdm = tdm_transformer.transform(df['tweet'])"
   ]
  },
  {
   "cell_type": "code",
   "execution_count": 34,
   "metadata": {
    "colab": {},
    "colab_type": "code",
    "id": "FTfqcjb6uiro"
   },
   "outputs": [],
   "source": [
    "from sklearn.feature_extraction.text import TfidfTransformer\n",
    "tfidf_transformer = TfidfTransformer().fit(df_tdm)\n",
    "df_tfidf = tfidf_transformer.transform(df_tdm)"
   ]
  },
  {
   "cell_type": "markdown",
   "metadata": {
    "colab_type": "text",
    "id": "dqGtD1nvvRK_"
   },
   "source": [
    "# 4. Model Training and Selection"
   ]
  },
  {
   "cell_type": "markdown",
   "metadata": {
    "colab": {},
    "colab_type": "code",
    "id": "UIsk5CA2vJRd"
   },
   "source": [
    "## 4.1 Split the data"
   ]
  },
  {
   "cell_type": "code",
   "execution_count": 36,
   "metadata": {
    "colab": {},
    "colab_type": "code",
    "id": "gOlXw3F5vjOB"
   },
   "outputs": [],
   "source": [
    "from sklearn.model_selection import train_test_split\n",
    "from sklearn.pipeline import Pipeline\n",
    "from sklearn.metrics import classification_report\n",
    "from sklearn.model_selection import KFold, cross_val_score, GridSearchCV\n",
    "from sklearn.metrics import accuracy_score, roc_curve, auc, roc_auc_score\n",
    "from sklearn.linear_model import LogisticRegression\n",
    "from sklearn.ensemble import RandomForestClassifier\n",
    "from sklearn.svm import SVC\n",
    "from sklearn.naive_bayes import MultinomialNB\n",
    "from scipy.sparse import hstack"
   ]
  },
  {
   "cell_type": "code",
   "execution_count": 37,
   "metadata": {
    "colab": {},
    "colab_type": "code",
    "id": "7H5XZcdnvo3Y"
   },
   "outputs": [],
   "source": [
    "# create a pipeline to convert the data into tfidf form \n",
    "pipeline = Pipeline([\n",
    "    ('bow', CountVectorizer(analyzer=remove_punc_stopwords)),  # strings to token integer counts\n",
    "    ('tfidf', TfidfTransformer())])"
   ]
  },
  {
   "cell_type": "code",
   "execution_count": 38,
   "metadata": {
    "colab": {},
    "colab_type": "code",
    "id": "PiQUKBBfvwJh"
   },
   "outputs": [],
   "source": [
    "# Specify X and y\n",
    "X = pipeline.fit_transform(df.tweet)\n",
    "y = df.sentiment\n",
    "\n",
    "# Train test split\n",
    "X_train, X_test, y_train, y_test = train_test_split(X,y,test_size=0.1,random_state=1)"
   ]
  },
  {
   "cell_type": "markdown",
   "metadata": {},
   "source": [
    "## 4.2 evaluation functions"
   ]
  },
  {
   "cell_type": "code",
   "execution_count": 39,
   "metadata": {
    "colab": {},
    "colab_type": "code",
    "id": "l8v0vmEgv0cb"
   },
   "outputs": [],
   "source": [
    "def gridSearchCV(model, params):\n",
    "    \"\"\"\n",
    "    @param    model: sklearn estimator\n",
    "    @param    params (dict): Dictionary of possible parameters\n",
    "    \n",
    "    @return   cv_results (DataFrame)\n",
    "    \"\"\"\n",
    "    model_cv = GridSearchCV(model, param_grid=params, scoring='roc_auc', cv=5)\n",
    "    model_cv.fit(X_train, y_train)\n",
    "    cv_results = pd.DataFrame(model_cv.cv_results_)[['params', 'mean_test_score']].sort_values(['mean_test_score'],ascending=False)\n",
    "    \n",
    "    return cv_results"
   ]
  },
  {
   "cell_type": "code",
   "execution_count": 72,
   "metadata": {
    "colab": {},
    "colab_type": "code",
    "id": "QvWEY4HEwPYh"
   },
   "outputs": [],
   "source": [
    "def evaluate(model):\n",
    "    \"\"\"\n",
    "    1. Plot ROC AUC of the test set\n",
    "    2. Return the best threshold\n",
    "    \"\"\"\n",
    "    model.fit(X_train, y_train)\n",
    "    probs = model.predict_proba(X_test)\n",
    "    preds = probs[:,1]\n",
    "    fpr, tpr, threshold = roc_curve(y_test, preds)\n",
    "    roc_auc = auc(fpr, tpr)\n",
    "    print(f'AUC: {roc_auc:.4f}')\n",
    "    \n",
    "    # Find optimal threshold\n",
    "    rocDf = pd.DataFrame({'fpr': fpr, 'tpr':tpr, 'threshold':threshold})\n",
    "    rocDf['tpr - fpr'] = rocDf.tpr - rocDf.fpr\n",
    "    optimalThreshold = rocDf.threshold[rocDf['tpr - fpr'].idxmax()]\n",
    "    print(optimalThreshold)\n",
    "\n",
    "    # Get accuracy over the test set\n",
    "    y_pred = np.where(preds >= optimalThreshold, 1, 0)\n",
    "    accuracy = accuracy_score(y_test, y_pred)\n",
    "    print(f'Accuracy: {accuracy*100:.2f}%')"
   ]
  },
  {
   "cell_type": "markdown",
   "metadata": {},
   "source": [
    "## 4.3 Model Training"
   ]
  },
  {
   "cell_type": "markdown",
   "metadata": {
    "colab_type": "text",
    "id": "81Pqw1_KyDrv"
   },
   "source": [
    "### 4.3.1 Naive Bayesion"
   ]
  },
  {
   "cell_type": "code",
   "execution_count": 73,
   "metadata": {
    "colab": {},
    "colab_type": "code",
    "id": "zfMGsSrPyEFw"
   },
   "outputs": [],
   "source": [
    "nab = MultinomialNB()\n",
    "params1 = {'alpha': np.linspace(0.5, 1.5, 6), 'fit_prior': [True, False]}"
   ]
  },
  {
   "cell_type": "code",
   "execution_count": 74,
   "metadata": {
    "colab": {
     "base_uri": "https://localhost:8080/",
     "height": 243
    },
    "colab_type": "code",
    "id": "qaozEQlyyGOr",
    "outputId": "0b7457c0-4755-4ed4-f60d-4b5ad2458e86"
   },
   "outputs": [
    {
     "name": "stdout",
     "output_type": "stream",
     "text": [
      "                                params  mean_test_score\n",
      "10   {'alpha': 1.5, 'fit_prior': True}         0.832142\n",
      "11  {'alpha': 1.5, 'fit_prior': False}         0.832142\n",
      "8    {'alpha': 1.3, 'fit_prior': True}         0.831523\n",
      "9   {'alpha': 1.3, 'fit_prior': False}         0.831523\n",
      "6    {'alpha': 1.1, 'fit_prior': True}         0.830769\n",
      "7   {'alpha': 1.1, 'fit_prior': False}         0.830769\n",
      "4    {'alpha': 0.9, 'fit_prior': True}         0.829392\n",
      "5   {'alpha': 0.9, 'fit_prior': False}         0.829392\n",
      "2    {'alpha': 0.7, 'fit_prior': True}         0.827539\n",
      "3   {'alpha': 0.7, 'fit_prior': False}         0.827539\n",
      "0    {'alpha': 0.5, 'fit_prior': True}         0.823701\n",
      "1   {'alpha': 0.5, 'fit_prior': False}         0.823701\n"
     ]
    }
   ],
   "source": [
    "print(gridSearchCV(nab, params1))"
   ]
  },
  {
   "cell_type": "code",
   "execution_count": 76,
   "metadata": {
    "colab": {
     "base_uri": "https://localhost:8080/",
     "height": 347
    },
    "colab_type": "code",
    "id": "5Y-F4tu3yMcb",
    "outputId": "d23602e0-c14b-4842-dc78-d040ea217c3e"
   },
   "outputs": [
    {
     "name": "stdout",
     "output_type": "stream",
     "text": [
      "AUC: 0.8236\n",
      "0.5590393242672023\n",
      "Accuracy: 77.35%\n"
     ]
    }
   ],
   "source": [
    "nab = MultinomialNB(alpha=1.5,fit_prior=True)\n",
    "evaluate(nab)"
   ]
  },
  {
   "cell_type": "markdown",
   "metadata": {
    "colab_type": "text",
    "id": "SVZ8f2YaxCad"
   },
   "source": [
    "### 4.3.2 Random Forest "
   ]
  },
  {
   "cell_type": "code",
   "execution_count": 115,
   "metadata": {
    "colab": {},
    "colab_type": "code",
    "id": "D5ocRJpIw9Yx"
   },
   "outputs": [],
   "source": [
    "params1 = {'bootstrap': [True, False]}\n",
    "params2 = {'max_depth': [None,1,2,5,8,10,20,30,40,50,60,70,80,90,100]}\n",
    "params3 = {'n_estimators': [2,4,6,8,10,12,14,16,18,20,30,40,50,60,70,80,90,100]}\n",
    "params4 = {'max_features': [None,1,2,5,8,10,20,30,40,50,60,70,80,90,100]}"
   ]
  },
  {
   "cell_type": "code",
   "execution_count": 98,
   "metadata": {
    "colab": {
     "base_uri": "https://localhost:8080/",
     "height": 69
    },
    "colab_type": "code",
    "id": "3qN78dPNxN4h",
    "outputId": "23203da0-1e8c-49b8-8fd3-4a9fdd4a3bb7"
   },
   "outputs": [
    {
     "name": "stdout",
     "output_type": "stream",
     "text": [
      "                 params  mean_test_score\n",
      "1  {'bootstrap': False}         0.767762\n",
      "0   {'bootstrap': True}         0.766037\n"
     ]
    }
   ],
   "source": [
    "rfc = RandomForestClassifier(random_state=1)\n",
    "print(gridSearchCV(rfc, params1))"
   ]
  },
  {
   "cell_type": "code",
   "execution_count": 99,
   "metadata": {
    "colab": {
     "base_uri": "https://localhost:8080/",
     "height": 225
    },
    "colab_type": "code",
    "id": "zNY-gHFxxPv4",
    "outputId": "10190b8a-6532-4676-bc4f-50432982eb10"
   },
   "outputs": [
    {
     "name": "stdout",
     "output_type": "stream",
     "text": [
      "                 params  mean_test_score\n",
      "13    {'max_depth': 90}         0.780487\n",
      "11    {'max_depth': 70}         0.777657\n",
      "14   {'max_depth': 100}         0.777026\n",
      "10    {'max_depth': 60}         0.774856\n",
      "9     {'max_depth': 50}         0.773707\n",
      "12    {'max_depth': 80}         0.773058\n",
      "0   {'max_depth': None}         0.767762\n",
      "7     {'max_depth': 30}         0.765512\n",
      "8     {'max_depth': 40}         0.764232\n",
      "6     {'max_depth': 20}         0.745030\n",
      "5     {'max_depth': 10}         0.706911\n",
      "4      {'max_depth': 8}         0.689439\n",
      "3      {'max_depth': 5}         0.647626\n",
      "2      {'max_depth': 2}         0.575075\n",
      "1      {'max_depth': 1}         0.527678\n"
     ]
    }
   ],
   "source": [
    "rfc = RandomForestClassifier(random_state=1,bootstrap=False)\n",
    "print(gridSearchCV(rfc, params2))"
   ]
  },
  {
   "cell_type": "code",
   "execution_count": 100,
   "metadata": {
    "colab": {
     "base_uri": "https://localhost:8080/",
     "height": 69
    },
    "colab_type": "code",
    "id": "-Gwb6TugxSu_",
    "outputId": "f27adecb-d7c0-4157-c456-8de902821c5e"
   },
   "outputs": [
    {
     "name": "stdout",
     "output_type": "stream",
     "text": [
      "                   params  mean_test_score\n",
      "16   {'n_estimators': 90}         0.812094\n",
      "17  {'n_estimators': 100}         0.812069\n",
      "15   {'n_estimators': 80}         0.810814\n",
      "14   {'n_estimators': 70}         0.810357\n",
      "13   {'n_estimators': 60}         0.809247\n",
      "12   {'n_estimators': 50}         0.806923\n",
      "11   {'n_estimators': 40}         0.805249\n",
      "10   {'n_estimators': 30}         0.801320\n",
      "9    {'n_estimators': 20}         0.795087\n",
      "8    {'n_estimators': 18}         0.793189\n",
      "7    {'n_estimators': 16}         0.792039\n",
      "6    {'n_estimators': 14}         0.789643\n",
      "5    {'n_estimators': 12}         0.784776\n",
      "4    {'n_estimators': 10}         0.780487\n",
      "3     {'n_estimators': 8}         0.774214\n",
      "2     {'n_estimators': 6}         0.760836\n",
      "1     {'n_estimators': 4}         0.744637\n",
      "0     {'n_estimators': 2}         0.696660\n"
     ]
    }
   ],
   "source": [
    "rfc = RandomForestClassifier(random_state=1,bootstrap=False,max_depth=90)\n",
    "print(gridSearchCV(rfc, params3))"
   ]
  },
  {
   "cell_type": "code",
   "execution_count": 116,
   "metadata": {},
   "outputs": [
    {
     "name": "stdout",
     "output_type": "stream",
     "text": [
      "                    params  mean_test_score\n",
      "8     {'max_features': 40}         0.818822\n",
      "10    {'max_features': 60}         0.814319\n",
      "9     {'max_features': 50}         0.813710\n",
      "7     {'max_features': 30}         0.812109\n",
      "14   {'max_features': 100}         0.811849\n",
      "11    {'max_features': 70}         0.811779\n",
      "12    {'max_features': 80}         0.811688\n",
      "6     {'max_features': 20}         0.811094\n",
      "13    {'max_features': 90}         0.810468\n",
      "5     {'max_features': 10}         0.800087\n",
      "4      {'max_features': 8}         0.798953\n",
      "3      {'max_features': 5}         0.777705\n",
      "2      {'max_features': 2}         0.749813\n",
      "1      {'max_features': 1}         0.724272\n",
      "0   {'max_features': None}         0.685222\n"
     ]
    }
   ],
   "source": [
    "rfc = RandomForestClassifier(random_state=1,bootstrap=False,max_depth=90,n_estimators=90)\n",
    "print(gridSearchCV(rfc, params4))"
   ]
  },
  {
   "cell_type": "code",
   "execution_count": 117,
   "metadata": {
    "colab": {
     "base_uri": "https://localhost:8080/",
     "height": 347
    },
    "colab_type": "code",
    "id": "Y3d5IrGSxkM-",
    "outputId": "346eb4ea-8c1d-468f-fafa-f7075123c92f"
   },
   "outputs": [
    {
     "name": "stdout",
     "output_type": "stream",
     "text": [
      "AUC: 0.8057\n",
      "0.488788321880853\n",
      "Accuracy: 75.88%\n"
     ]
    }
   ],
   "source": [
    "rfc = RandomForestClassifier(random_state=1,bootstrap=True,max_depth=90,n_estimators=90,max_features=40)\n",
    "evaluate(rfc)"
   ]
  },
  {
   "cell_type": "markdown",
   "metadata": {
    "colab_type": "text",
    "id": "PGK0IrHpx2Se"
   },
   "source": [
    "### 4.3.3 SVM"
   ]
  },
  {
   "cell_type": "code",
   "execution_count": 118,
   "metadata": {
    "colab": {},
    "colab_type": "code",
    "id": "_UHIkvdKxvQe"
   },
   "outputs": [],
   "source": [
    "params1 = {'C': [0.001,0.01,0.1,1,3,10,20,30,40,50],\n",
    "           'kernel':['linear','rbf','poly']}\n",
    "params2 = {'gamma':[0.001,0.01,0.1,1,10,100]}\n",
    "params3 = {'degree':[0,1,2,3,4,5,6,7,8,9,10,20,30,40,50]}"
   ]
  },
  {
   "cell_type": "code",
   "execution_count": 119,
   "metadata": {
    "colab": {
     "base_uri": "https://localhost:8080/",
     "height": 243
    },
    "colab_type": "code",
    "id": "7WmX-dNsxzzD",
    "outputId": "86e446fa-d590-453f-c29e-6eac8f19d2b7"
   },
   "outputs": [
    {
     "name": "stdout",
     "output_type": "stream",
     "text": [
      "                              params  mean_test_score\n",
      "9       {'C': 1, 'kernel': 'linear'}         0.820981\n",
      "5      {'C': 0.01, 'kernel': 'poly'}         0.813005\n",
      "23       {'C': 30, 'kernel': 'poly'}         0.812924\n",
      "17       {'C': 10, 'kernel': 'poly'}         0.812867\n",
      "29       {'C': 50, 'kernel': 'poly'}         0.812848\n",
      "26       {'C': 40, 'kernel': 'poly'}         0.812809\n",
      "8       {'C': 0.1, 'kernel': 'poly'}         0.812795\n",
      "20       {'C': 20, 'kernel': 'poly'}         0.812782\n",
      "14        {'C': 3, 'kernel': 'poly'}         0.812768\n",
      "11        {'C': 1, 'kernel': 'poly'}         0.812750\n",
      "6     {'C': 0.1, 'kernel': 'linear'}         0.802755\n",
      "12      {'C': 3, 'kernel': 'linear'}         0.801027\n",
      "0   {'C': 0.001, 'kernel': 'linear'}         0.798804\n",
      "13         {'C': 3, 'kernel': 'rbf'}         0.798804\n",
      "10         {'C': 1, 'kernel': 'rbf'}         0.798804\n",
      "16        {'C': 10, 'kernel': 'rbf'}         0.798776\n",
      "25        {'C': 40, 'kernel': 'rbf'}         0.798774\n",
      "28        {'C': 50, 'kernel': 'rbf'}         0.798774\n",
      "22        {'C': 30, 'kernel': 'rbf'}         0.798774\n",
      "3    {'C': 0.01, 'kernel': 'linear'}         0.798772\n",
      "19        {'C': 20, 'kernel': 'rbf'}         0.798759\n",
      "4       {'C': 0.01, 'kernel': 'rbf'}         0.798561\n",
      "1      {'C': 0.001, 'kernel': 'rbf'}         0.798554\n",
      "7        {'C': 0.1, 'kernel': 'rbf'}         0.798405\n",
      "15     {'C': 10, 'kernel': 'linear'}         0.786872\n",
      "18     {'C': 20, 'kernel': 'linear'}         0.785597\n",
      "24     {'C': 40, 'kernel': 'linear'}         0.785571\n",
      "27     {'C': 50, 'kernel': 'linear'}         0.785571\n",
      "21     {'C': 30, 'kernel': 'linear'}         0.785571\n",
      "2     {'C': 0.001, 'kernel': 'poly'}         0.775101\n"
     ]
    }
   ],
   "source": [
    "svc = SVC()\n",
    "print(gridSearchCV(svc, params1))"
   ]
  },
  {
   "cell_type": "code",
   "execution_count": 120,
   "metadata": {
    "colab": {
     "base_uri": "https://localhost:8080/",
     "height": 156
    },
    "colab_type": "code",
    "id": "Up6UDL8ux63Q",
    "outputId": "f6541d77-b9cf-4bd2-80c8-81f244eb05d8"
   },
   "outputs": [
    {
     "name": "stdout",
     "output_type": "stream",
     "text": [
      "             params  mean_test_score\n",
      "0  {'gamma': 0.001}         0.820981\n",
      "1   {'gamma': 0.01}         0.820981\n",
      "2    {'gamma': 0.1}         0.820981\n",
      "3      {'gamma': 1}         0.820981\n",
      "4     {'gamma': 10}         0.820981\n",
      "5    {'gamma': 100}         0.820981\n"
     ]
    }
   ],
   "source": [
    "svc = SVC(C=1,kernel='linear')\n",
    "print(gridSearchCV(svc, params2))"
   ]
  },
  {
   "cell_type": "code",
   "execution_count": 121,
   "metadata": {},
   "outputs": [
    {
     "name": "stdout",
     "output_type": "stream",
     "text": [
      "            params  mean_test_score\n",
      "0    {'degree': 0}         0.820981\n",
      "1    {'degree': 1}         0.820981\n",
      "2    {'degree': 2}         0.820981\n",
      "3    {'degree': 3}         0.820981\n",
      "4    {'degree': 4}         0.820981\n",
      "5    {'degree': 5}         0.820981\n",
      "6    {'degree': 6}         0.820981\n",
      "7    {'degree': 7}         0.820981\n",
      "8    {'degree': 8}         0.820981\n",
      "9    {'degree': 9}         0.820981\n",
      "10  {'degree': 10}         0.820981\n",
      "11  {'degree': 20}         0.820981\n",
      "12  {'degree': 30}         0.820981\n",
      "13  {'degree': 40}         0.820981\n",
      "14  {'degree': 50}         0.820981\n"
     ]
    }
   ],
   "source": [
    "svc = SVC(C=1,kernel='linear',gamma=0.001)\n",
    "print(gridSearchCV(svc, params3))"
   ]
  },
  {
   "cell_type": "code",
   "execution_count": 123,
   "metadata": {
    "colab": {
     "base_uri": "https://localhost:8080/",
     "height": 347
    },
    "colab_type": "code",
    "id": "iECX1JIax9TW",
    "outputId": "2640744f-f5c8-4250-c86e-5f928e2f0e57"
   },
   "outputs": [
    {
     "name": "stdout",
     "output_type": "stream",
     "text": [
      "AUC: 0.8258\n",
      "0.5256810441625582\n",
      "Accuracy: 78.24%\n"
     ]
    }
   ],
   "source": [
    "svc = SVC(random_state=1,C=1,kernel='linear',gamma=0.001,degree=0,probability=True)\n",
    "evaluate(svc)"
   ]
  },
  {
   "cell_type": "markdown",
   "metadata": {
    "colab_type": "text",
    "id": "odk6SbGiyS84"
   },
   "source": [
    "# 5. Final Model"
   ]
  },
  {
   "cell_type": "code",
   "execution_count": 182,
   "metadata": {
    "colab": {
     "base_uri": "https://localhost:8080/",
     "height": 415
    },
    "colab_type": "code",
    "id": "0i5Qm83ylf-9",
    "outputId": "3e12375b-cbb1-4579-e418-252c5f5a0833"
   },
   "outputs": [],
   "source": [
    "df_test = pd.read_csv(\"/Users/kira/Desktop/CIS434 Social Media/Final Project/data/tweet_test.csv\")\n",
    "df_test = df_test.drop(['tid_not_to_be_used','airline','tag'],axis=1)"
   ]
  },
  {
   "cell_type": "code",
   "execution_count": 183,
   "metadata": {
    "colab": {
     "base_uri": "https://localhost:8080/",
     "height": 87
    },
    "colab_type": "code",
    "id": "Bd4T2M1IyOcB",
    "outputId": "f01ccd7a-79b2-41c6-9010-1a017271552d"
   },
   "outputs": [
    {
     "data": {
      "text/plain": [
       "SVC(C=1, cache_size=200, class_weight=None, coef0=0.0,\n",
       "    decision_function_shape='ovr', degree=0, gamma=0.001, kernel='linear',\n",
       "    max_iter=-1, probability=True, random_state=1, shrinking=True, tol=0.001,\n",
       "    verbose=False)"
      ]
     },
     "execution_count": 183,
     "metadata": {},
     "output_type": "execute_result"
    }
   ],
   "source": [
    "final_model = SVC(random_state=1,C=1,kernel='linear',gamma=0.001,degree=0,probability=True)\n",
    "final_model.fit(X,y)"
   ]
  },
  {
   "cell_type": "code",
   "execution_count": 184,
   "metadata": {
    "colab": {},
    "colab_type": "code",
    "id": "L6sL6DtMyWhR"
   },
   "outputs": [],
   "source": [
    "final_X = pipeline.transform(df_test.tweet)\n",
    "predictions = final_model.predict_proba(final_X)[:,1]\n",
    "y_pred = np.where(predictions >= 0.15, 1, 0)"
   ]
  },
  {
   "cell_type": "code",
   "execution_count": 185,
   "metadata": {
    "colab": {},
    "colab_type": "code",
    "id": "4Ly5ZIv-yYh-"
   },
   "outputs": [],
   "source": [
    "output = pd.DataFrame({\n",
    "    'id':df_test.id,\n",
    "    'tweet':df_test.tweet,\n",
    "    'pred':y_pred\n",
    "})"
   ]
  },
  {
   "cell_type": "code",
   "execution_count": 186,
   "metadata": {
    "colab": {},
    "colab_type": "code",
    "id": "vXcREuoPycW9"
   },
   "outputs": [
    {
     "data": {
      "text/html": [
       "<div>\n",
       "<style scoped>\n",
       "    .dataframe tbody tr th:only-of-type {\n",
       "        vertical-align: middle;\n",
       "    }\n",
       "\n",
       "    .dataframe tbody tr th {\n",
       "        vertical-align: top;\n",
       "    }\n",
       "\n",
       "    .dataframe thead th {\n",
       "        text-align: right;\n",
       "    }\n",
       "</style>\n",
       "<table border=\"1\" class=\"dataframe\">\n",
       "  <thead>\n",
       "    <tr style=\"text-align: right;\">\n",
       "      <th></th>\n",
       "      <th>id</th>\n",
       "      <th>pred</th>\n",
       "      <th>tweet</th>\n",
       "    </tr>\n",
       "  </thead>\n",
       "  <tbody>\n",
       "    <tr>\n",
       "      <td>0</td>\n",
       "      <td>564</td>\n",
       "      <td>0</td>\n",
       "      <td>Shoutout to Crystal at @JetBlue for helping us...</td>\n",
       "    </tr>\n",
       "    <tr>\n",
       "      <td>1</td>\n",
       "      <td>620</td>\n",
       "      <td>0</td>\n",
       "      <td>.@richardbranson .@rmchrQB .@VirginAmerica Air...</td>\n",
       "    </tr>\n",
       "    <tr>\n",
       "      <td>2</td>\n",
       "      <td>2291</td>\n",
       "      <td>0</td>\n",
       "      <td>On @jetblue heading to Vegas for my first @ABC...</td>\n",
       "    </tr>\n",
       "    <tr>\n",
       "      <td>3</td>\n",
       "      <td>2338</td>\n",
       "      <td>0</td>\n",
       "      <td>Can't wait to fly @JetBlue #TrueBlue</td>\n",
       "    </tr>\n",
       "    <tr>\n",
       "      <td>4</td>\n",
       "      <td>2523</td>\n",
       "      <td>0</td>\n",
       "      <td>When did @AlaskaAir become the most expensive ...</td>\n",
       "    </tr>\n",
       "    <tr>\n",
       "      <td>...</td>\n",
       "      <td>...</td>\n",
       "      <td>...</td>\n",
       "      <td>...</td>\n",
       "    </tr>\n",
       "    <tr>\n",
       "      <td>288</td>\n",
       "      <td>170610</td>\n",
       "      <td>0</td>\n",
       "      <td>Best way to leave @FlyTPA @JetBlue be right ba...</td>\n",
       "    </tr>\n",
       "    <tr>\n",
       "      <td>289</td>\n",
       "      <td>170650</td>\n",
       "      <td>0</td>\n",
       "      <td>So sad @united  https://t.co/2JP5WXlpd7</td>\n",
       "    </tr>\n",
       "    <tr>\n",
       "      <td>290</td>\n",
       "      <td>172276</td>\n",
       "      <td>0</td>\n",
       "      <td>Hey you guys, @JetBlue is the best. Seriously....</td>\n",
       "    </tr>\n",
       "    <tr>\n",
       "      <td>291</td>\n",
       "      <td>172719</td>\n",
       "      <td>0</td>\n",
       "      <td>@Charalanahzard that's why you never use @Amer...</td>\n",
       "    </tr>\n",
       "    <tr>\n",
       "      <td>292</td>\n",
       "      <td>172913</td>\n",
       "      <td>0</td>\n",
       "      <td>@AbdulNasirJ @HussainKamani @united Prophet fu...</td>\n",
       "    </tr>\n",
       "  </tbody>\n",
       "</table>\n",
       "<p>293 rows × 3 columns</p>\n",
       "</div>"
      ],
      "text/plain": [
       "         id  pred                                              tweet\n",
       "0       564     0  Shoutout to Crystal at @JetBlue for helping us...\n",
       "1       620     0  .@richardbranson .@rmchrQB .@VirginAmerica Air...\n",
       "2      2291     0  On @jetblue heading to Vegas for my first @ABC...\n",
       "3      2338     0              Can't wait to fly @JetBlue #TrueBlue \n",
       "4      2523     0  When did @AlaskaAir become the most expensive ...\n",
       "..      ...   ...                                                ...\n",
       "288  170610     0  Best way to leave @FlyTPA @JetBlue be right ba...\n",
       "289  170650     0            So sad @united  https://t.co/2JP5WXlpd7\n",
       "290  172276     0  Hey you guys, @JetBlue is the best. Seriously....\n",
       "291  172719     0  @Charalanahzard that's why you never use @Amer...\n",
       "292  172913     0  @AbdulNasirJ @HussainKamani @united Prophet fu...\n",
       "\n",
       "[293 rows x 3 columns]"
      ]
     },
     "execution_count": 186,
     "metadata": {},
     "output_type": "execute_result"
    }
   ],
   "source": [
    "res = output[output['pred']==0]\n",
    "res = res[['id','pred','tweet']]\n",
    "res = res.reset_index(drop=True)\n",
    "res"
   ]
  },
  {
   "cell_type": "code",
   "execution_count": 187,
   "metadata": {},
   "outputs": [],
   "source": [
    "res = res.drop(['pred'],axis=1)"
   ]
  },
  {
   "cell_type": "code",
   "execution_count": 188,
   "metadata": {
    "colab": {},
    "colab_type": "code",
    "id": "efyPUThLymNX"
   },
   "outputs": [],
   "source": [
    "res.to_csv(r'/Users/kira/Desktop/CIS434 Social Media/Final Project/Geng_Luo.csv',sep=',')"
   ]
  },
  {
   "cell_type": "code",
   "execution_count": 189,
   "metadata": {},
   "outputs": [],
   "source": [
    "my_eval = pd.read_csv(\"/Users/kira/Desktop/CIS434 Social Media/Final Project/my_eval.csv\")"
   ]
  },
  {
   "cell_type": "code",
   "execution_count": 190,
   "metadata": {},
   "outputs": [
    {
     "data": {
      "text/html": [
       "<div>\n",
       "<style scoped>\n",
       "    .dataframe tbody tr th:only-of-type {\n",
       "        vertical-align: middle;\n",
       "    }\n",
       "\n",
       "    .dataframe tbody tr th {\n",
       "        vertical-align: top;\n",
       "    }\n",
       "\n",
       "    .dataframe thead th {\n",
       "        text-align: right;\n",
       "    }\n",
       "</style>\n",
       "<table border=\"1\" class=\"dataframe\">\n",
       "  <thead>\n",
       "    <tr style=\"text-align: right;\">\n",
       "      <th></th>\n",
       "      <th>my_eval</th>\n",
       "    </tr>\n",
       "  </thead>\n",
       "  <tbody>\n",
       "    <tr>\n",
       "      <td>0</td>\n",
       "      <td>1</td>\n",
       "    </tr>\n",
       "    <tr>\n",
       "      <td>1</td>\n",
       "      <td>0</td>\n",
       "    </tr>\n",
       "    <tr>\n",
       "      <td>2</td>\n",
       "      <td>1</td>\n",
       "    </tr>\n",
       "    <tr>\n",
       "      <td>3</td>\n",
       "      <td>1</td>\n",
       "    </tr>\n",
       "    <tr>\n",
       "      <td>4</td>\n",
       "      <td>0</td>\n",
       "    </tr>\n",
       "    <tr>\n",
       "      <td>...</td>\n",
       "      <td>...</td>\n",
       "    </tr>\n",
       "    <tr>\n",
       "      <td>288</td>\n",
       "      <td>1</td>\n",
       "    </tr>\n",
       "    <tr>\n",
       "      <td>289</td>\n",
       "      <td>1</td>\n",
       "    </tr>\n",
       "    <tr>\n",
       "      <td>290</td>\n",
       "      <td>1</td>\n",
       "    </tr>\n",
       "    <tr>\n",
       "      <td>291</td>\n",
       "      <td>1</td>\n",
       "    </tr>\n",
       "    <tr>\n",
       "      <td>292</td>\n",
       "      <td>0</td>\n",
       "    </tr>\n",
       "  </tbody>\n",
       "</table>\n",
       "<p>293 rows × 1 columns</p>\n",
       "</div>"
      ],
      "text/plain": [
       "     my_eval\n",
       "0          1\n",
       "1          0\n",
       "2          1\n",
       "3          1\n",
       "4          0\n",
       "..       ...\n",
       "288        1\n",
       "289        1\n",
       "290        1\n",
       "291        1\n",
       "292        0\n",
       "\n",
       "[293 rows x 1 columns]"
      ]
     },
     "execution_count": 190,
     "metadata": {},
     "output_type": "execute_result"
    }
   ],
   "source": [
    "my_eval"
   ]
  },
  {
   "cell_type": "code",
   "execution_count": 191,
   "metadata": {},
   "outputs": [
    {
     "data": {
      "text/html": [
       "<div>\n",
       "<style scoped>\n",
       "    .dataframe tbody tr th:only-of-type {\n",
       "        vertical-align: middle;\n",
       "    }\n",
       "\n",
       "    .dataframe tbody tr th {\n",
       "        vertical-align: top;\n",
       "    }\n",
       "\n",
       "    .dataframe thead th {\n",
       "        text-align: right;\n",
       "    }\n",
       "</style>\n",
       "<table border=\"1\" class=\"dataframe\">\n",
       "  <thead>\n",
       "    <tr style=\"text-align: right;\">\n",
       "      <th></th>\n",
       "      <th>id</th>\n",
       "      <th>my_eval</th>\n",
       "      <th>tweet</th>\n",
       "    </tr>\n",
       "  </thead>\n",
       "  <tbody>\n",
       "    <tr>\n",
       "      <td>0</td>\n",
       "      <td>564</td>\n",
       "      <td>1</td>\n",
       "      <td>Shoutout to Crystal at @JetBlue for helping us...</td>\n",
       "    </tr>\n",
       "    <tr>\n",
       "      <td>1</td>\n",
       "      <td>620</td>\n",
       "      <td>0</td>\n",
       "      <td>.@richardbranson .@rmchrQB .@VirginAmerica Air...</td>\n",
       "    </tr>\n",
       "    <tr>\n",
       "      <td>2</td>\n",
       "      <td>2291</td>\n",
       "      <td>1</td>\n",
       "      <td>On @jetblue heading to Vegas for my first @ABC...</td>\n",
       "    </tr>\n",
       "    <tr>\n",
       "      <td>3</td>\n",
       "      <td>2338</td>\n",
       "      <td>1</td>\n",
       "      <td>Can't wait to fly @JetBlue #TrueBlue</td>\n",
       "    </tr>\n",
       "    <tr>\n",
       "      <td>4</td>\n",
       "      <td>2523</td>\n",
       "      <td>0</td>\n",
       "      <td>When did @AlaskaAir become the most expensive ...</td>\n",
       "    </tr>\n",
       "    <tr>\n",
       "      <td>...</td>\n",
       "      <td>...</td>\n",
       "      <td>...</td>\n",
       "      <td>...</td>\n",
       "    </tr>\n",
       "    <tr>\n",
       "      <td>288</td>\n",
       "      <td>170610</td>\n",
       "      <td>1</td>\n",
       "      <td>Best way to leave @FlyTPA @JetBlue be right ba...</td>\n",
       "    </tr>\n",
       "    <tr>\n",
       "      <td>289</td>\n",
       "      <td>170650</td>\n",
       "      <td>1</td>\n",
       "      <td>So sad @united  https://t.co/2JP5WXlpd7</td>\n",
       "    </tr>\n",
       "    <tr>\n",
       "      <td>290</td>\n",
       "      <td>172276</td>\n",
       "      <td>1</td>\n",
       "      <td>Hey you guys, @JetBlue is the best. Seriously....</td>\n",
       "    </tr>\n",
       "    <tr>\n",
       "      <td>291</td>\n",
       "      <td>172719</td>\n",
       "      <td>1</td>\n",
       "      <td>@Charalanahzard that's why you never use @Amer...</td>\n",
       "    </tr>\n",
       "    <tr>\n",
       "      <td>292</td>\n",
       "      <td>172913</td>\n",
       "      <td>0</td>\n",
       "      <td>@AbdulNasirJ @HussainKamani @united Prophet fu...</td>\n",
       "    </tr>\n",
       "  </tbody>\n",
       "</table>\n",
       "<p>293 rows × 3 columns</p>\n",
       "</div>"
      ],
      "text/plain": [
       "         id  my_eval                                              tweet\n",
       "0       564        1  Shoutout to Crystal at @JetBlue for helping us...\n",
       "1       620        0  .@richardbranson .@rmchrQB .@VirginAmerica Air...\n",
       "2      2291        1  On @jetblue heading to Vegas for my first @ABC...\n",
       "3      2338        1              Can't wait to fly @JetBlue #TrueBlue \n",
       "4      2523        0  When did @AlaskaAir become the most expensive ...\n",
       "..      ...      ...                                                ...\n",
       "288  170610        1  Best way to leave @FlyTPA @JetBlue be right ba...\n",
       "289  170650        1            So sad @united  https://t.co/2JP5WXlpd7\n",
       "290  172276        1  Hey you guys, @JetBlue is the best. Seriously....\n",
       "291  172719        1  @Charalanahzard that's why you never use @Amer...\n",
       "292  172913        0  @AbdulNasirJ @HussainKamani @united Prophet fu...\n",
       "\n",
       "[293 rows x 3 columns]"
      ]
     },
     "execution_count": 191,
     "metadata": {},
     "output_type": "execute_result"
    }
   ],
   "source": [
    "res['my_eval'] = my_eval\n",
    "res = res[['id','my_eval','tweet']]\n",
    "res"
   ]
  },
  {
   "cell_type": "code",
   "execution_count": 192,
   "metadata": {},
   "outputs": [],
   "source": [
    "res.to_csv(r'/Users/kira/Desktop/CIS434 Social Media/Final Project/Geng_Luo.csv',sep=',')"
   ]
  },
  {
   "cell_type": "code",
   "execution_count": null,
   "metadata": {},
   "outputs": [],
   "source": []
  }
 ],
 "metadata": {
  "colab": {
   "collapsed_sections": [],
   "name": "Ying_Wang",
   "provenance": []
  },
  "kernelspec": {
   "display_name": "Python 3",
   "language": "python",
   "name": "python3"
  },
  "language_info": {
   "codemirror_mode": {
    "name": "ipython",
    "version": 3
   },
   "file_extension": ".py",
   "mimetype": "text/x-python",
   "name": "python",
   "nbconvert_exporter": "python",
   "pygments_lexer": "ipython3",
   "version": "3.7.4"
  },
  "toc": {
   "base_numbering": 1,
   "nav_menu": {},
   "number_sections": false,
   "sideBar": false,
   "skip_h1_title": false,
   "title_cell": "Table of Contents",
   "title_sidebar": "Contents",
   "toc_cell": false,
   "toc_position": {},
   "toc_section_display": false,
   "toc_window_display": false
  }
 },
 "nbformat": 4,
 "nbformat_minor": 1
}
